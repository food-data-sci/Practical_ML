{
 "cells": [
  {
   "cell_type": "code",
   "execution_count": 1,
   "metadata": {},
   "outputs": [],
   "source": [
    "import pandas as pd\n",
    "import numpy as np\n",
    "import seaborn as sns\n",
    "import matplotlib.pyplot as plt\n",
    "np.random.seed(19)\n",
    "import xgboost as xgb\n",
    "import catboost as ctb\n",
    "from sklearn.metrics import mean_absolute_error\n",
    "from sklearn.model_selection import train_test_split, cross_val_score, KFold\n",
    "from collections import defaultdict\n",
    "from sklearn.dummy import DummyRegressor\n",
    "import scikitplot as skplt\n",
    "from functools import partial\n",
    "from hyperopt import hp, fmin, tpe, STATUS_OK, Trials"
   ]
  },
  {
   "cell_type": "markdown",
   "metadata": {},
   "source": [
    "# Dane"
   ]
  },
  {
   "cell_type": "code",
   "execution_count": 2,
   "metadata": {},
   "outputs": [],
   "source": [
    "# wczytaj dane\n",
    "train = pd.read_hdf('../input/train.car_price.h5')\n",
    "test = pd.read_hdf('../input/test.car_price.h5') #zbiór testowy bez odpowiedzi"
   ]
  },
  {
   "cell_type": "code",
   "execution_count": 3,
   "metadata": {},
   "outputs": [],
   "source": [
    "# połącz dane\n",
    "df_all = pd.concat([train, test])"
   ]
  },
  {
   "cell_type": "code",
   "execution_count": 4,
   "metadata": {},
   "outputs": [],
   "source": [
    "# wypełnij braki -1, poza ceną w teście\n",
    "df_all.loc[:, df_all.columns != 'price_value'] = df_all.fillna(-1)"
   ]
  },
  {
   "cell_type": "markdown",
   "metadata": {},
   "source": [
    "# Przydatne funkcje"
   ]
  },
  {
   "cell_type": "code",
   "execution_count": 5,
   "metadata": {},
   "outputs": [],
   "source": [
    "remove_feats = [\"car_id\", 'price_details_cat', 'price_value', 'index']"
   ]
  },
  {
   "cell_type": "code",
   "execution_count": 6,
   "metadata": {},
   "outputs": [],
   "source": [
    "def get_feats(df):\n",
    "    feats = df.select_dtypes(include = [np.number, np.bool]).columns\n",
    "    feats = [x for x in feats if x not in remove_feats]\n",
    "    return feats\n",
    "\n",
    "def get_train(df):\n",
    "    return df[~df[\"price_value\"].isnull()]\n",
    "def get_test(df):\n",
    "    return df[df[\"price_value\"].isnull()]\n",
    "def get_X(df):\n",
    "    return df[feats].values\n",
    "def get_y(df):\n",
    "    return df['price_value'].values\n",
    "\n",
    "def str_to_num(param, strip_value):\n",
    "    # usuń strip # usuń spacje\n",
    "    df_all[param] = df_all[param].astype(str).str.rstrip(strip_value).str.replace(\" \",\"\").astype(float)\n",
    "    remove_feats.extend(['{0}_cat'.format(param)])\n",
    "    \n",
    "# nowa funkcja, gdy kolumna zawiera floaty rozdzielone przecinkiem\n",
    "def str_to_float(param, strip_value):\n",
    "    # usuń strip # usuń spacje # wymień , na .\n",
    "    df_all[param] = df_all[param].astype(str).str.rstrip(strip_value).str.replace(\" \",\"\").str.replace(\",\", \".\").astype(float)\n",
    "    remove_feats.extend(['{0}_cat'.format(param)])\n",
    "    \n",
    "# funkcja do tworzenia cechy będącej kombinacją polskiego i angielksiego odpowiednika\n",
    "# zwykle zmniejsza to liczbę wartości brakujących\n",
    "def eng_pl(col_eng, col_pl):\n",
    "    df_all['{0}_comb'.format(col_pl)] = df_all[col_pl]\n",
    "    df_all.loc[df_all['{0}_comb'.format(col_pl)] == -1, '{0}_comb'.format(col_pl)] = df_all.loc[df_all['{0}_comb'.format(col_pl)] == -1, col_eng]\n",
    "    #df_all['{0}_comb'.format(col_pl)] = df_all['{0}_comb'.format(col_pl)].astype(int)\n",
    "    remove_feats.extend(['{0}_cat'.format(col_pl), '{0}_cat'.format(col_eng)])\n"
   ]
  },
  {
   "cell_type": "markdown",
   "metadata": {},
   "source": [
    "# Feature Engineering"
   ]
  },
  {
   "cell_type": "markdown",
   "metadata": {},
   "source": [
    "## Target log"
   ]
  },
  {
   "cell_type": "code",
   "execution_count": 7,
   "metadata": {},
   "outputs": [
    {
     "data": {
      "text/plain": [
       "(array([2.2000e+01, 4.2900e+02, 2.1780e+03, 9.6450e+03, 2.5098e+04,\n",
       "        3.2097e+04, 2.1279e+04, 1.0951e+04, 3.9550e+03, 8.4000e+02]),\n",
       " array([ 5.99146455,  6.75154229,  7.51162004,  8.27169778,  9.03177553,\n",
       "         9.79185327, 10.55193102, 11.31200876, 12.07208651, 12.83216425,\n",
       "        13.592242  ]),\n",
       " <a list of 10 Patch objects>)"
      ]
     },
     "execution_count": 7,
     "metadata": {},
     "output_type": "execute_result"
    },
    {
     "data": {
      "image/png": "[encoded data removed]",
      "text/plain": [
       "<Figure size 432x288 with 1 Axes>"
      ]
     },
     "metadata": {
      "needs_background": "light"
     },
     "output_type": "display_data"
    }
   ],
   "source": [
    "#plt.hist(train.price_value) # nie wygląda dobrze - wartości gromadzą się z przodu\n",
    "plt.hist(np.log(train.price_value)) # wygląda bardziej normalnie - użyj log"
   ]
  },
  {
   "cell_type": "markdown",
   "metadata": {},
   "source": [
    "## Powrót do breadcrumb"
   ]
  },
  {
   "cell_type": "markdown",
   "metadata": {},
   "source": [
    "(najpierw zignorowałam tę kolumnę, bo nie ma tam nic czego nie ma w innych kolumnach, ale potem zauważyłam, że rozbicie jej może zmiejszyć liczbę brakujących wartości)"
   ]
  },
  {
   "cell_type": "code",
   "execution_count": 8,
   "metadata": {},
   "outputs": [
    {
     "data": {
      "text/plain": [
       "0"
      ]
     },
     "execution_count": 8,
     "metadata": {},
     "output_type": "execute_result"
    }
   ],
   "source": [
    "sum(df_all['breadcrumb'] == -1) # no missing! (później zauważyłam, że możliwe, że to dlatego, że mają to inaczej oznaczone, ale już nic z tym nie robiłam)"
   ]
  },
  {
   "cell_type": "code",
   "execution_count": 9,
   "metadata": {},
   "outputs": [],
   "source": [
    "#df_all['breadcrumb'].str.split(',')\n",
    "df_all['bread_list'] = [','.join(map(str, l)) for l in df_all['breadcrumb']]"
   ]
  },
  {
   "cell_type": "code",
   "execution_count": 10,
   "metadata": {},
   "outputs": [],
   "source": [
    "df_all['Osobowe_br'] = df_all['bread_list'].str.split(',', expand = True)[0]"
   ]
  },
  {
   "cell_type": "code",
   "execution_count": 11,
   "metadata": {},
   "outputs": [],
   "source": [
    "df_all['Marka_br'] = df_all['bread_list'].str.split(',', expand = True)[1]"
   ]
  },
  {
   "cell_type": "code",
   "execution_count": 12,
   "metadata": {},
   "outputs": [
    {
     "data": {
      "text/plain": [
       "89"
      ]
     },
     "execution_count": 12,
     "metadata": {},
     "output_type": "execute_result"
    }
   ],
   "source": [
    "sum(df_all['Marka_br'].value_counts()>1)"
   ]
  },
  {
   "cell_type": "code",
   "execution_count": 13,
   "metadata": {},
   "outputs": [],
   "source": [
    "# zgrupuj marki, które występują tylko raz do 'other'\n",
    "# top 89 makes + 'other' \n",
    "top_makes = list(df_all['Marka_br'].value_counts().head(89).keys())\n",
    "makes_norm = defaultdict(lambda: 'other', dict(zip(top_makes, top_makes)))\n",
    "df_all['makes_norm'] = df_all['Marka_br'].map(makes_norm)\n",
    "#df_all['makes_norm'].value_counts()\n",
    "#df_all['seller_address_norm_cat'] = pd.factorize(df_all['seller_address_norm'])[0]"
   ]
  },
  {
   "cell_type": "code",
   "execution_count": 14,
   "metadata": {},
   "outputs": [],
   "source": [
    "df_all['Model_br'] = df_all['bread_list'].str.split(',', expand = True)[2]"
   ]
  },
  {
   "cell_type": "code",
   "execution_count": 15,
   "metadata": {},
   "outputs": [
    {
     "data": {
      "text/plain": [
       "904"
      ]
     },
     "execution_count": 15,
     "metadata": {},
     "output_type": "execute_result"
    }
   ],
   "source": [
    "sum(df_all['Model_br'].value_counts() > 1)"
   ]
  },
  {
   "cell_type": "code",
   "execution_count": 16,
   "metadata": {},
   "outputs": [
    {
     "data": {
      "text/plain": [
       "Astra        4766\n",
       "Passat       4343\n",
       "Seria 3      4036\n",
       "Golf         4006\n",
       "A4           3748\n",
       "             ... \n",
       "Interstar       2\n",
       "Sedona          2\n",
       "Delta 88        2\n",
       "Tercel          2\n",
       "Tahoe           2\n",
       "Name: model_norm, Length: 905, dtype: int64"
      ]
     },
     "execution_count": 16,
     "metadata": {},
     "output_type": "execute_result"
    }
   ],
   "source": [
    "# zgrupuj modele, które wsytępują tylko raz do 'other'\n",
    "# top 904 models + 'other'\n",
    "top_model = list(df_all['Model_br'].value_counts().head(904).keys())\n",
    "model_norm = defaultdict(lambda: 'other', dict(zip(top_model, top_model)))\n",
    "df_all['model_norm'] = df_all['Model_br'].map(model_norm)\n",
    "df_all['model_norm'].value_counts()"
   ]
  },
  {
   "cell_type": "code",
   "execution_count": 17,
   "metadata": {},
   "outputs": [],
   "source": [
    "df_all['Full_car_name_br'] = df_all['bread_list'].str.split(',', expand = True)[3]"
   ]
  },
  {
   "cell_type": "code",
   "execution_count": 18,
   "metadata": {},
   "outputs": [],
   "source": [
    "df_all = df_all.drop(columns = 'bread_list')"
   ]
  },
  {
   "cell_type": "code",
   "execution_count": 19,
   "metadata": {},
   "outputs": [
    {
     "data": {
      "text/plain": [
       "802"
      ]
     },
     "execution_count": 19,
     "metadata": {},
     "output_type": "execute_result"
    }
   ],
   "source": [
    "sum(df_all['Full_car_name_br'].value_counts() > 1)"
   ]
  },
  {
   "cell_type": "code",
   "execution_count": 20,
   "metadata": {},
   "outputs": [],
   "source": [
    "# zgrupuj wersje, które wsytępują tylko raz do 'other'\n",
    "# top 802 models + 'other'\n",
    "top_name = list(df_all['Full_car_name_br'].value_counts().head(802).keys())\n",
    "name_norm = defaultdict(lambda: 'other', dict(zip(top_name, top_name)))\n",
    "df_all['name_norm'] = df_all['Full_car_name_br'].map(name_norm)\n",
    "#df_all['name_norm'].value_counts()"
   ]
  },
  {
   "cell_type": "markdown",
   "metadata": {},
   "source": [
    "## Faktoryzacja danych nienumerycznych"
   ]
  },
  {
   "cell_type": "code",
   "execution_count": 21,
   "metadata": {},
   "outputs": [],
   "source": [
    "cat_f = df_all.select_dtypes(include = [np.object]).columns\n",
    "cat_f = cat_f.drop([\"breadcrumb\", 'param_marka-pojazdu', 'param_make', 'param_model', 'param_model-pojazdu', 'param_wersja', 'param_version', 'param_kategoria', 'Full_car_name_br', 'Marka_br', 'Model_br']) # z breadcrumb poradziłam sobie z nią powyżej\n",
    "for cat_feat in cat_f:\n",
    "    df_all['{0}_cat'.format(cat_feat)] = pd.factorize(df_all[cat_feat])[0]"
   ]
  },
  {
   "cell_type": "markdown",
   "metadata": {},
   "source": [
    "## Wyciągnij coś z created_at"
   ]
  },
  {
   "cell_type": "code",
   "execution_count": 22,
   "metadata": {},
   "outputs": [
    {
     "data": {
      "text/plain": [
       "12:13, 2 marca 2018      191\n",
       "22:19, 28 lutego 2018    168\n",
       "12:14, 2 marca 2018      164\n",
       "12:17, 2 marca 2018      162\n",
       "-1                       161\n",
       "                        ... \n",
       "03:42, 3 marca 2018        1\n",
       "04:33, 15 lutego 2018      1\n",
       "06:52, 3 marca 2018        1\n",
       "20:59, 26 lutego 2018      1\n",
       "15:32, 26 lutego 2018      1\n",
       "Name: created_at, Length: 11960, dtype: int64"
      ]
     },
     "execution_count": 22,
     "metadata": {},
     "output_type": "execute_result"
    }
   ],
   "source": [
    "df_all['created_at'].value_counts() # factorized jest bezużyteczne, trzeba to rozdzielić"
   ]
  },
  {
   "cell_type": "code",
   "execution_count": 23,
   "metadata": {},
   "outputs": [],
   "source": [
    "remove_feats.extend(['created_at_cat'])\n",
    "#remove_feats"
   ]
  },
  {
   "cell_type": "code",
   "execution_count": 24,
   "metadata": {},
   "outputs": [
    {
     "data": {
      "text/plain": [
       "5 marca 2018        30386\n",
       "4 marca 2018        25906\n",
       "3 marca 2018        23774\n",
       "2 marca 2018        23439\n",
       "1 marca 2018        18859\n",
       "28 lutego 2018      16245\n",
       "27 lutego 2018      13868\n",
       "26 lutego 2018       1684\n",
       "23 lutego 2018       1520\n",
       "24 lutego 2018       1366\n",
       "25 lutego 2018       1269\n",
       "22 lutego 2018       1014\n",
       "6 marca 2018          402\n",
       "20 lutego 2018        122\n",
       "19 lutego 2018         83\n",
       "21 lutego 2018         82\n",
       "9 lutego 2018          60\n",
       "10 lutego 2018         50\n",
       "15 lutego 2018         50\n",
       "16 lutego 2018         32\n",
       "14 lutego 2018         31\n",
       "12 lutego 2018         29\n",
       "13 lutego 2018         28\n",
       "11 lutego 2018         28\n",
       "6 lutego 2018          26\n",
       "17 lutego 2018         24\n",
       "8 lutego 2018          22\n",
       "7 lutego 2018          12\n",
       "18 lutego 2018          8\n",
       "29 stycznia 2018        7\n",
       "9 marca 2018            4\n",
       "30 stycznia 2018        4\n",
       "28 stycznia 2018        4\n",
       "31 stycznia 2018        3\n",
       "11 stycznia 2018        2\n",
       "8 marca 2018            2\n",
       "28 grudnia 2017         1\n",
       "1 lutego 2018           1\n",
       "9 stycznia 2018         1\n",
       "4 lutego 2018           1\n",
       "7 marca 2018            1\n",
       "23 grudnia 2017         1\n",
       "3 stycznia 2018         1\n",
       "27 stycznia 2018        1\n",
       "22 grudnia 2017         1\n",
       "8 stycznia 2018         1\n",
       "Name: created_at, dtype: int64"
      ]
     },
     "execution_count": 24,
     "metadata": {},
     "output_type": "execute_result"
    }
   ],
   "source": [
    "df_all['created_at'][0].split(sep = ',')[0]\n",
    "df_all['created_at'].str[:2]\n",
    "df_all['created_at'].str[7:].value_counts()"
   ]
  },
  {
   "cell_type": "code",
   "execution_count": 25,
   "metadata": {},
   "outputs": [],
   "source": [
    "# ile miesięcy temu było dodane ogłoszenie\n",
    "df_all['created_M_ago'] = df_all['created_at']"
   ]
  },
  {
   "cell_type": "code",
   "execution_count": 26,
   "metadata": {},
   "outputs": [],
   "source": [
    "df_all.loc[df_all['created_at'].str.contains('marca', na = False), 'created_M_ago'] = 0\n",
    "df_all.loc[df_all['created_at'].str.contains('lutego', na = False), 'created_M_ago'] = 1\n",
    "df_all.loc[df_all['created_at'].str.contains('stycznia', na = False), 'created_M_ago'] = 2\n",
    "df_all.loc[df_all['created_at'].str.contains('grudnia', na = False), 'created_M_ago'] = 3"
   ]
  },
  {
   "cell_type": "code",
   "execution_count": 27,
   "metadata": {},
   "outputs": [],
   "source": [
    "df_all['created_M_ago'] = df_all['created_M_ago'].astype(int)"
   ]
  },
  {
   "cell_type": "markdown",
   "metadata": {},
   "source": [
    "Wg modelu 36 ta wiedza pogarsza wynik :( ale i tak ją zostawię..."
   ]
  },
  {
   "cell_type": "markdown",
   "metadata": {},
   "source": [
    "## Adres sprzedawcy"
   ]
  },
  {
   "cell_type": "code",
   "execution_count": 28,
   "metadata": {},
   "outputs": [],
   "source": [
    "#ac = df_all['seller_address'].value_counts()\n",
    "#len(ac) # 12,809\n",
    "#sum(ac<50) # 12,192 sell less than 50\n",
    "#sum(ac == 1)\n",
    "#ac[-12192:]\n",
    "remove_feats.extend(['seller_address_cat'])"
   ]
  },
  {
   "cell_type": "code",
   "execution_count": 29,
   "metadata": {},
   "outputs": [],
   "source": [
    "# top 50 addresses + 'other'\n",
    "top_addresses = list(df_all['seller_address'].value_counts().head(50).keys())\n",
    "address_norm = defaultdict(lambda: 'other', dict(zip(top_addresses, top_addresses)))\n",
    "df_all['seller_address_norm'] = df_all['seller_address'].map(address_norm)\n",
    "df_all['seller_address_norm'].value_counts()\n",
    "df_all['seller_address_norm_cat'] = pd.factorize(df_all['seller_address_norm'])[0]"
   ]
  },
  {
   "cell_type": "markdown",
   "metadata": {},
   "source": [
    "## Nazwa sprzedawcy"
   ]
  },
  {
   "cell_type": "markdown",
   "metadata": {},
   "source": [
    "Po obejrzeniu histogramu chciałam stworzyć kategorię dla małych, średnich, dużych sprzedawców wg bucketów poniżej, ale mnie to przerosło, więc zamiast tego zrobiłam factorize na top 50 sprzedawców i wrzuciłam resztę do 'other'."
   ]
  },
  {
   "cell_type": "code",
   "execution_count": 30,
   "metadata": {},
   "outputs": [],
   "source": [
    "#plt.hist(sc_mid)\n",
    "#sc_mid.value_counts()\n",
    "# -1: 0\n",
    "# 1: 1\n",
    "# 2 - 3: 2\n",
    "# 4 - 5: 3\n",
    "# 6 - 10: 4\n",
    "# 10 - 20: 5\n",
    "# 20 - 30: 6\n",
    "# 30 - 100:7\n",
    "# 100 +: 8\n",
    "#r1 = sc[:803]"
   ]
  },
  {
   "cell_type": "code",
   "execution_count": 31,
   "metadata": {},
   "outputs": [],
   "source": [
    "# top 50 sellers' names and 'others'\n",
    "top_sellers = list(df_all['seller_name'].value_counts().head(50).keys())\n",
    "seller_norm = defaultdict(lambda: 'other', dict(zip(top_sellers, top_sellers)))\n",
    "df_all['seller_name_norm'] = df_all['seller_name'].map(seller_norm)\n",
    "df_all['seller_name_norm'].value_counts()\n",
    "df_all['seller_name_norm_cat'] = pd.factorize(df_all['seller_name_norm'])[0]\n",
    "remove_feats.extend(['seller_name_cat'])"
   ]
  },
  {
   "cell_type": "markdown",
   "metadata": {},
   "source": [
    "## Stringi, które powinny być numerami"
   ]
  },
  {
   "cell_type": "code",
   "execution_count": 32,
   "metadata": {},
   "outputs": [],
   "source": [
    "str_to_float('param_wartość-wykupu', 'PLN')"
   ]
  },
  {
   "cell_type": "code",
   "execution_count": 33,
   "metadata": {},
   "outputs": [],
   "source": [
    "str_to_float('param_liczba-pozostałych-rat', '')"
   ]
  },
  {
   "cell_type": "code",
   "execution_count": 34,
   "metadata": {},
   "outputs": [],
   "source": [
    "str_to_float('param_opłata-początkowa', 'PLN')"
   ]
  },
  {
   "cell_type": "markdown",
   "metadata": {},
   "source": [
    "## Total features\n",
    "zamiast feature_ boolean - ale okazało się, że daje to gorszy wynik"
   ]
  },
  {
   "cell_type": "code",
   "execution_count": 35,
   "metadata": {},
   "outputs": [],
   "source": [
    "# how many features does a record have\n",
    "#df_all['nfeature'] = -1\n",
    "#len(df_all['nfeature'])"
   ]
  },
  {
   "cell_type": "code",
   "execution_count": 36,
   "metadata": {},
   "outputs": [],
   "source": [
    "features = df_all.columns[df_all.columns.str.contains(\"feature_\")]"
   ]
  },
  {
   "cell_type": "code",
   "execution_count": 37,
   "metadata": {},
   "outputs": [],
   "source": [
    "#(df_all[features] == -1).sum().sum() ## wszystkie features to True/False"
   ]
  },
  {
   "cell_type": "code",
   "execution_count": 38,
   "metadata": {},
   "outputs": [],
   "source": [
    "#df_all['nfeature'] = df_all[features].sum(axis=1)"
   ]
  },
  {
   "cell_type": "markdown",
   "metadata": {},
   "source": [
    "### Expensive features"
   ]
  },
  {
   "cell_type": "markdown",
   "metadata": {},
   "source": [
    "Żeby sprawdzić, które 'features' pogrupować żeby pomóc modelowi rozpoznawać droższe samochody:\n",
    "    1. sprawdziłam korelację między features i ceną\n",
    "    2. uruchomiłam model na samych features i sprawdziłam, które najbardziej wpłynęły na wynik (z eli5)"
   ]
  },
  {
   "cell_type": "code",
   "execution_count": 39,
   "metadata": {},
   "outputs": [],
   "source": [
    "features_corr = list(features)\n",
    "features_corr.extend(['price_value'])"
   ]
  },
  {
   "cell_type": "code",
   "execution_count": 40,
   "metadata": {},
   "outputs": [],
   "source": [
    "feats_corr = train[features_corr].astype(int)"
   ]
  },
  {
   "cell_type": "code",
   "execution_count": 41,
   "metadata": {},
   "outputs": [],
   "source": [
    "corrs = pd.DataFrame(feats_corr.corr().loc['price_value', :])"
   ]
  },
  {
   "cell_type": "code",
   "execution_count": 42,
   "metadata": {},
   "outputs": [],
   "source": [
    "corrs.sort_values(by = 'price_value', inplace = True, ascending = False)\n",
    "#len(corrs)\n",
    "#sns.heatmap(corrs)"
   ]
  },
  {
   "cell_type": "code",
   "execution_count": 43,
   "metadata": {},
   "outputs": [
    {
     "data": {
      "text/html": [
       "<div>\n",
       "<style scoped>\n",
       "    .dataframe tbody tr th:only-of-type {\n",
       "        vertical-align: middle;\n",
       "    }\n",
       "\n",
       "    .dataframe tbody tr th {\n",
       "        vertical-align: top;\n",
       "    }\n",
       "\n",
       "    .dataframe thead th {\n",
       "        text-align: right;\n",
       "    }\n",
       "</style>\n",
       "<table border=\"1\" class=\"dataframe\">\n",
       "  <thead>\n",
       "    <tr style=\"text-align: right;\">\n",
       "      <th></th>\n",
       "      <th>price_value</th>\n",
       "    </tr>\n",
       "  </thead>\n",
       "  <tbody>\n",
       "    <tr>\n",
       "      <th>price_value</th>\n",
       "      <td>1.000000</td>\n",
       "    </tr>\n",
       "    <tr>\n",
       "      <th>feature_kamera-cofania</th>\n",
       "      <td>0.464058</td>\n",
       "    </tr>\n",
       "    <tr>\n",
       "      <th>feature_światła-led</th>\n",
       "      <td>0.434708</td>\n",
       "    </tr>\n",
       "    <tr>\n",
       "      <th>feature_łopatki-zmiany-biegów</th>\n",
       "      <td>0.426042</td>\n",
       "    </tr>\n",
       "    <tr>\n",
       "      <th>feature_system-start-stop</th>\n",
       "      <td>0.421750</td>\n",
       "    </tr>\n",
       "    <tr>\n",
       "      <th>feature_czujniki-parkowania-przednie</th>\n",
       "      <td>0.400076</td>\n",
       "    </tr>\n",
       "    <tr>\n",
       "      <th>feature_asystent-pasa-ruchu</th>\n",
       "      <td>0.378468</td>\n",
       "    </tr>\n",
       "    <tr>\n",
       "      <th>feature_bluetooth</th>\n",
       "      <td>0.365952</td>\n",
       "    </tr>\n",
       "    <tr>\n",
       "      <th>feature_nawigacja-gps</th>\n",
       "      <td>0.360922</td>\n",
       "    </tr>\n",
       "    <tr>\n",
       "      <th>feature_czujnik-martwego-pola</th>\n",
       "      <td>0.346648</td>\n",
       "    </tr>\n",
       "  </tbody>\n",
       "</table>\n",
       "</div>"
      ],
      "text/plain": [
       "                                      price_value\n",
       "price_value                              1.000000\n",
       "feature_kamera-cofania                   0.464058\n",
       "feature_światła-led                      0.434708\n",
       "feature_łopatki-zmiany-biegów            0.426042\n",
       "feature_system-start-stop                0.421750\n",
       "feature_czujniki-parkowania-przednie     0.400076\n",
       "feature_asystent-pasa-ruchu              0.378468\n",
       "feature_bluetooth                        0.365952\n",
       "feature_nawigacja-gps                    0.360922\n",
       "feature_czujnik-martwego-pola            0.346648"
      ]
     },
     "execution_count": 43,
     "metadata": {},
     "output_type": "execute_result"
    }
   ],
   "source": [
    "corrs.head(10)"
   ]
  },
  {
   "cell_type": "markdown",
   "metadata": {},
   "source": [
    "(Model uruchomiłam w innym miejscu, lista poniżej zawiera już cechy wybrane z obu metod)"
   ]
  },
  {
   "cell_type": "code",
   "execution_count": 44,
   "metadata": {},
   "outputs": [],
   "source": [
    "fancy = ['feature_kamera-cofania', 'feature_światła-led', 'feature_system-start-stop', 'feature_łopatki-zmiany-biegów', 'feature_czujniki-parkowania-przednie', 'feature_bluetooth', 'feature_światła-do-jazdy-dziennej']"
   ]
  },
  {
   "cell_type": "code",
   "execution_count": 45,
   "metadata": {},
   "outputs": [],
   "source": [
    "df_all['fancy_feats'] = df_all[fancy].sum(axis=1)"
   ]
  },
  {
   "cell_type": "markdown",
   "metadata": {},
   "source": [
    "### Czy cechy po angielsku uzupełniają sie może z tymi po polsku...?"
   ]
  },
  {
   "cell_type": "markdown",
   "metadata": {},
   "source": [
    "Zauważyłam, że wiele cech występuje podwójnie - po polsku i angielsku i połączyłam je razem. Pierwsze kilka robiłam manualnie, potem napisałam do tego funkcję."
   ]
  },
  {
   "cell_type": "code",
   "execution_count": 46,
   "metadata": {},
   "outputs": [
    {
     "data": {
      "text/plain": [
       "1.0         6125\n",
       "5.0         4339\n",
       "10.0        1673\n",
       "180000.0    1312\n",
       "220000.0    1305\n",
       "            ... \n",
       "170590.0       1\n",
       "60124.0        1\n",
       "21324.0        1\n",
       "66839.0        1\n",
       "262142.0       1\n",
       "Name: param_przebieg_comb, Length: 33586, dtype: int64"
      ]
     },
     "execution_count": 46,
     "metadata": {},
     "output_type": "execute_result"
    }
   ],
   "source": [
    "# 1. przebieg vs mileage\n",
    "# przebieg nie ma żadnych brakujących wartości!\n",
    "eng_pl('param_mileage', 'param_przebieg')\n",
    "str_to_num('param_przebieg_comb', 'km')\n",
    "df_all['param_przebieg_comb'].value_counts() # log może się tu przydać"
   ]
  },
  {
   "cell_type": "code",
   "execution_count": 47,
   "metadata": {},
   "outputs": [],
   "source": [
    "# 2 country_of _origin vs kraj_pochodzenia\n",
    "#df_all['param_country-of-origin'].value_counts() # 160,534 nie ma\n",
    "#df_all['param_kraj-pochodzenia'].value_counts() # 51,466 nie ma\n",
    "df_all.loc[(df_all['param_kraj-pochodzenia'] == -1) & (df_all['param_country-of-origin'] != -1), ['param_kraj-pochodzenia', 'param_country-of-origin']]\n",
    "# są wypadki gdy nie ma w kraj, a jest w country # 82\n",
    "#df_all.loc[(df_all['param_kraj-pochodzenia'] != -1) & (df_all['param_country-of-origin'] == -1), ['param_kraj-pochodzenia', 'param_country-of-origin']]\n",
    "df_all.loc[(df_all['param_kraj-pochodzenia'] != df_all['param_country-of-origin']), ['param_kraj-pochodzenia', 'param_country-of-origin']]\n",
    "# 109,232 gdzie wartości się nie zgadzają między tymi 2 kolumnami - czyli żadna poza brakującymi przypadkami\n",
    "df_all['param_kraj-pochodzenia_comb'] = df_all['param_kraj-pochodzenia']\n",
    "df_all.loc[df_all['param_kraj-pochodzenia_comb']==-1, 'param_kraj-pochodzenia_comb'] = df_all.loc[df_all['param_kraj-pochodzenia_comb']==-1,'param_country-of-origin']"
   ]
  },
  {
   "cell_type": "markdown",
   "metadata": {},
   "source": [
    "Zgrupuj razem kraje z małymi ilościami samochodów."
   ]
  },
  {
   "cell_type": "code",
   "execution_count": 48,
   "metadata": {},
   "outputs": [],
   "source": [
    "counts = df_all['param_kraj-pochodzenia_comb'].value_counts()\n",
    "others = counts[counts<10].index\n",
    "df_all['param_kraj-pochodzenia_comb'] = df_all['param_kraj-pochodzenia_comb'].replace(others, 'Inny')\n",
    "df_all['param_kraj-pochodzenia_comb_cat'] = pd.factorize(df_all['param_kraj-pochodzenia_comb'])[0]\n",
    "remove_feats.extend(['param_kraj-pochodzenia_cat', 'param_country-of-origin_cat'])"
   ]
  },
  {
   "cell_type": "code",
   "execution_count": 49,
   "metadata": {},
   "outputs": [],
   "source": [
    "# 3 param_year vs param_rok\n",
    "df_all['param_year'].value_counts() #mostly missing\n",
    "df_all['param_rok-produkcji'].value_counts() # 289 missing\n",
    "\n",
    "df_all.loc[(df_all['param_rok-produkcji'] == -1) & (df_all['param_year'] != -1), ['param_rok-produkcji', 'param_year']] # ok\n",
    "\n",
    "df_all['param_rok_comb'] = df_all['param_rok-produkcji']\n",
    "df_all.loc[df_all['param_rok_comb']==-1, 'param_rok_comb'] = df_all.loc[df_all['param_rok_comb']==-1,'param_year']\n",
    "sum(df_all['param_rok_comb'] == -1) # 161< 289\n",
    "\n",
    "remove_feats.extend(['param_rok-produkcji_cat', 'param_year_cat'])"
   ]
  },
  {
   "cell_type": "code",
   "execution_count": 50,
   "metadata": {},
   "outputs": [],
   "source": [
    "df_all['param_rok_comb'] = df_all['param_rok_comb'].astype(int)"
   ]
  },
  {
   "cell_type": "markdown",
   "metadata": {},
   "source": [
    "## Przybliż pozostałe roki"
   ]
  },
  {
   "cell_type": "markdown",
   "metadata": {},
   "source": [
    "Rok jest najważniejszą cechą modelu, więc chciałam uzupełnić go dla wszystkich aut. Poniżej przybliżam rok na podstawie modelu (patrząc na to z którego roku są średnio inne samochody tego modelu w moich danych)."
   ]
  },
  {
   "cell_type": "code",
   "execution_count": 51,
   "metadata": {},
   "outputs": [],
   "source": [
    "# czy mogę przybliżyć brakujący rok znając rocznik wersji samochodu? nie, bo tam tez sa w tych miejscach brakujace wartosci\n",
    "len(df_all.loc[df_all['param_rok_comb']==-1, ['Full_car_name_br']])\n",
    "idx = df_all.loc[df_all['param_rok_comb']==-1].index # idx w których potrzebuję roku"
   ]
  },
  {
   "cell_type": "code",
   "execution_count": 52,
   "metadata": {},
   "outputs": [],
   "source": [
    "df_all['Model_br'] = [x.replace('-', ' ') for x in df_all['Model_br']] # usuń - z modelów"
   ]
  },
  {
   "cell_type": "code",
   "execution_count": 53,
   "metadata": {},
   "outputs": [],
   "source": [
    "car_models = list(df_all.loc[idx, 'Model_br'])"
   ]
  },
  {
   "cell_type": "code",
   "execution_count": 54,
   "metadata": {},
   "outputs": [],
   "source": [
    "missing_cars = []\n",
    "missing_years = []\n",
    "for car in car_models: # możliwe, że nie jest to efektywna metoda, bo trochę czasu ta pętla zajmuje...\n",
    "   # podobne samochody to tych, którym brakuje roku \n",
    "    sim_cars = df_all[df_all['Full_car_name_br'].str.contains(car, na=False)] \n",
    "   # średni rok produkcji podobnych samochodów\n",
    "    sim_year = pd.DataFrame(sim_cars[['Full_car_name_br', 'param_rok_comb']].groupby(['Full_car_name_br']).mean().mean().round()).values\n",
    "    \n",
    "    missing_cars.append(car)\n",
    "    try:\n",
    "        missing_years.append(int(sim_year))\n",
    "    except:\n",
    "        missing_years.append(-1)\n",
    "df = pd.DataFrame({'car': missing_cars, 'year': missing_years})\n",
    "del missing_cars, missing_years"
   ]
  },
  {
   "cell_type": "code",
   "execution_count": 55,
   "metadata": {},
   "outputs": [],
   "source": [
    "# uzupełnij w df_all\n",
    "df_help = df_all.loc[idx]\n",
    "df_all.loc[idx, 'param_rok_comb'] = df_help['Model_br'].replace(dict(zip(df.car, df.year)))\n"
   ]
  },
  {
   "cell_type": "code",
   "execution_count": 56,
   "metadata": {},
   "outputs": [],
   "source": [
    "# 4 damaged - uszkodzony\n",
    "eng_pl('param_damaged', 'param_uszkodzony')\n",
    "df_all['param_uszkodzony_comb'] = pd.factorize(df_all['param_uszkodzony_comb'])[0]"
   ]
  },
  {
   "cell_type": "code",
   "execution_count": 57,
   "metadata": {},
   "outputs": [],
   "source": [
    "# 5 metallic vs metalik\n",
    "eng_pl('param_metallic', 'param_metalik')"
   ]
  },
  {
   "cell_type": "code",
   "execution_count": 58,
   "metadata": {},
   "outputs": [],
   "source": [
    "df_all['param_metalik_comb'] = pd.factorize(df_all['param_metalik_comb'])[0]"
   ]
  },
  {
   "cell_type": "code",
   "execution_count": 59,
   "metadata": {},
   "outputs": [],
   "source": [
    "# 6 nr-of-seats vs liczba-miejsc\n",
    "eng_pl('param_nr-of-seats', 'param_liczba-miejsc')"
   ]
  },
  {
   "cell_type": "code",
   "execution_count": 60,
   "metadata": {},
   "outputs": [],
   "source": [
    "df_all['param_liczba-miejsc_comb'] = df_all['param_liczba-miejsc_comb'].astype(int)"
   ]
  },
  {
   "cell_type": "code",
   "execution_count": 61,
   "metadata": {},
   "outputs": [],
   "source": [
    "# 7 drzwi\n",
    "eng_pl('param_door-count', 'param_liczba-drzwi')"
   ]
  },
  {
   "cell_type": "code",
   "execution_count": 62,
   "metadata": {},
   "outputs": [],
   "source": [
    "df_all['param_liczba-drzwi_comb'] = df_all['param_liczba-drzwi_comb'].astype(int)"
   ]
  },
  {
   "cell_type": "code",
   "execution_count": 63,
   "metadata": {},
   "outputs": [],
   "source": [
    "# 8 rejestracja\n",
    "eng_pl('param_first-registration', 'param_pierwsza-rejestracja')"
   ]
  },
  {
   "cell_type": "markdown",
   "metadata": {},
   "source": [
    "Wrócę do tego żeby wyjąć rok."
   ]
  },
  {
   "cell_type": "code",
   "execution_count": 64,
   "metadata": {},
   "outputs": [],
   "source": [
    "# 9 perła\n",
    "eng_pl('param_pearl', 'param_perłowy')"
   ]
  },
  {
   "cell_type": "code",
   "execution_count": 65,
   "metadata": {},
   "outputs": [],
   "source": [
    "df_all['param_perłowy_comb'] = pd.factorize(df_all['param_perłowy_comb'])[0]"
   ]
  },
  {
   "cell_type": "code",
   "execution_count": 66,
   "metadata": {},
   "outputs": [],
   "source": [
    "# 10 rejestracja w pl\n",
    "eng_pl('param_registered-in-poland', 'param_zarejestrowany-w-polsce')"
   ]
  },
  {
   "cell_type": "code",
   "execution_count": 67,
   "metadata": {},
   "outputs": [],
   "source": [
    "df_all['param_zarejestrowany-w-polsce_comb'] = pd.factorize(df_all['param_zarejestrowany-w-polsce_comb'])[0]"
   ]
  },
  {
   "cell_type": "code",
   "execution_count": 68,
   "metadata": {},
   "outputs": [],
   "source": [
    "# 11 kolor\n",
    "eng_pl('param_color', 'param_kolor')"
   ]
  },
  {
   "cell_type": "code",
   "execution_count": 69,
   "metadata": {},
   "outputs": [],
   "source": [
    "df_all['param_kolor_comb'] = pd.factorize(df_all['param_kolor_comb'])[0]"
   ]
  },
  {
   "cell_type": "code",
   "execution_count": 70,
   "metadata": {},
   "outputs": [],
   "source": [
    "# 12 pierwszy właściciel\n",
    "eng_pl('param_original-owner', 'param_pierwszy-właściciel')"
   ]
  },
  {
   "cell_type": "code",
   "execution_count": 71,
   "metadata": {},
   "outputs": [],
   "source": [
    "df_all['param_pierwszy-właściciel_comb'] = pd.factorize(df_all['param_pierwszy-właściciel_comb'])[0]"
   ]
  },
  {
   "cell_type": "code",
   "execution_count": 72,
   "metadata": {},
   "outputs": [],
   "source": [
    "# 13 wypadki\n",
    "eng_pl('param_no-accident', 'param_bezwypadkowy')"
   ]
  },
  {
   "cell_type": "code",
   "execution_count": 73,
   "metadata": {},
   "outputs": [],
   "source": [
    "df_all['param_bezwypadkowy_comb'] = pd.factorize(df_all['param_bezwypadkowy_comb'])[0]"
   ]
  },
  {
   "cell_type": "code",
   "execution_count": 74,
   "metadata": {},
   "outputs": [],
   "source": [
    "# 14 paliwo\n",
    "eng_pl('param_fuel-type', 'param_rodzaj-paliwa')"
   ]
  },
  {
   "cell_type": "code",
   "execution_count": 75,
   "metadata": {},
   "outputs": [],
   "source": [
    "df_all['param_rodzaj-paliwa_comb'] = pd.factorize(df_all['param_rodzaj-paliwa_comb'])[0]"
   ]
  },
  {
   "cell_type": "code",
   "execution_count": 76,
   "metadata": {},
   "outputs": [],
   "source": [
    "# 15 rata\n",
    "eng_pl('param_monthly-payment-value', 'param_miesięczna-rata')"
   ]
  },
  {
   "cell_type": "code",
   "execution_count": 77,
   "metadata": {},
   "outputs": [
    {
     "data": {
      "text/plain": [
       "-1            159889\n",
       "400 PLN           28\n",
       "600 PLN           21\n",
       "500 PLN           15\n",
       "700 PLN           13\n",
       "               ...  \n",
       "837 PLN            1\n",
       "892,22 PLN         1\n",
       "4 546 PLN          1\n",
       "496 PLN            1\n",
       "1 555 PLN          1\n",
       "Name: param_miesięczna-rata_comb, Length: 534, dtype: int64"
      ]
     },
     "execution_count": 77,
     "metadata": {},
     "output_type": "execute_result"
    }
   ],
   "source": [
    "df_all['param_miesięczna-rata_comb'].value_counts() # trzeba rozbić:\n",
    "#str_to_num('param_miesięczna-rata_comb', 'PLN') # funkcja nie działa, bo floaty mają przeciniki, trzeba zmienić"
   ]
  },
  {
   "cell_type": "code",
   "execution_count": 78,
   "metadata": {},
   "outputs": [],
   "source": [
    "# nowa funkcja, gdy kolumna zawiera floaty rozdzielone przecinkiem\n",
    "#def str_to_float(param, strip_value):\n",
    "#    # usuń strip # usuń spacje # wymień , na .\n",
    "#    df_all[param] = df_all[param].astype(str).str.rstrip(strip_value).str.replace(\" \",\"\").str.replace(\",\", \".\").astype(float)\n",
    "#    remove_feats.extend(['{0}_cat'.format(param)])"
   ]
  },
  {
   "cell_type": "code",
   "execution_count": 79,
   "metadata": {},
   "outputs": [],
   "source": [
    "str_to_float('param_miesięczna-rata_comb', 'PLN')"
   ]
  },
  {
   "cell_type": "code",
   "execution_count": 80,
   "metadata": {},
   "outputs": [],
   "source": [
    "# 16 emisje co2\n",
    "eng_pl('param_co2-emissions', 'param_emisja-co2')"
   ]
  },
  {
   "cell_type": "code",
   "execution_count": 81,
   "metadata": {},
   "outputs": [],
   "source": [
    "df_all['param_emisja-co2_comb'].unique()\n",
    "str_to_num('param_emisja-co2_comb', 'g/km')"
   ]
  },
  {
   "cell_type": "code",
   "execution_count": 82,
   "metadata": {},
   "outputs": [],
   "source": [
    "# 17 marka - niepotrzebna po breadcrumbie\n",
    "#eng_pl('param_make', 'param_marka-pojazdu')\n",
    "#df_all['param_marka-pojazdu_comb'] = pd.factorize(df_all['param_marka-pojazdu_comb'])[0]"
   ]
  },
  {
   "cell_type": "code",
   "execution_count": 83,
   "metadata": {},
   "outputs": [],
   "source": [
    "# 18 skrzynia biegów\n",
    "df_all['param_skrzynia-biegów'].value_counts()\n",
    "eng_pl('param_gearbox', 'param_skrzynia-biegów')"
   ]
  },
  {
   "cell_type": "code",
   "execution_count": 84,
   "metadata": {},
   "outputs": [],
   "source": [
    "df_all['param_skrzynia-biegów_comb'] = pd.factorize(df_all['param_skrzynia-biegów_comb'])[0]"
   ]
  },
  {
   "cell_type": "code",
   "execution_count": 85,
   "metadata": {},
   "outputs": [],
   "source": [
    "# 19 kod silnika - wyrzuć, bezużyteczny jako factor\n",
    "remove_feats.extend(['param_engine-code_cat', 'param_kod-silnika_cat'])\n",
    "#eng_pl('param_engine-code', 'param_kod-silnika')"
   ]
  },
  {
   "cell_type": "code",
   "execution_count": 86,
   "metadata": {},
   "outputs": [],
   "source": [
    "#df_all['param_kod-silnika_comb'].value_counts()\n",
    "#df_all['param_kod-silnika_comb'] = pd.factorize(df_all['param_kod-silnika_comb'])[0]\n",
    "#df_all['param_kod-silnika_comb'].value_counts()"
   ]
  },
  {
   "cell_type": "code",
   "execution_count": 87,
   "metadata": {},
   "outputs": [],
   "source": [
    "# 20 model - niepotrzebne po breadcrumbie\n",
    "#df_all['param_model-pojazdu']\n",
    "#df_all['param_model'].value_counts()\n",
    "#eng_pl('param_model', 'param_model-pojazdu')\n",
    "#df_all['param_model-pojazdu_comb'] = pd.factorize(df_all['param_model-pojazdu_comb'])[0]"
   ]
  },
  {
   "cell_type": "code",
   "execution_count": 88,
   "metadata": {},
   "outputs": [],
   "source": [
    "# 21 moc silnika\n",
    "df_all['param_moc']\n",
    "#df_all['param_engine-power'].value_counts()\n",
    "eng_pl('param_engine-power', 'param_moc')"
   ]
  },
  {
   "cell_type": "code",
   "execution_count": 89,
   "metadata": {},
   "outputs": [],
   "source": [
    "#str_to_num('param_moc_comb', 'KM') KM i HP obecne\n",
    "# funkcja gdy trzeba usunąć 2 stringi\n",
    "def str_to_num2(param, strip_value1, strip_value2):\n",
    "    # usuń strip # usuń spacje # wymień , na .\n",
    "    df_all[param] = df_all[param].astype(str).str.rstrip(strip_value1).str.rstrip(strip_value2).str.replace(\" \",\"\").astype(float)\n",
    "    remove_feats.extend(['{0}_cat'.format(param)])"
   ]
  },
  {
   "cell_type": "code",
   "execution_count": 90,
   "metadata": {},
   "outputs": [],
   "source": [
    "str_to_num2('param_moc_comb', 'KM', 'HP')"
   ]
  },
  {
   "cell_type": "code",
   "execution_count": 91,
   "metadata": {},
   "outputs": [],
   "source": [
    "# 22 body type - przeniesione do działu z one-hot-encoding\n",
    "#df_all['param_typ'].value_counts()\n",
    "#eng_pl('param_body-type', 'param_typ')"
   ]
  },
  {
   "cell_type": "code",
   "execution_count": 92,
   "metadata": {},
   "outputs": [],
   "source": [
    "# 23: wersja - niepotrzebne po breadcrumbie\n",
    "#df_all['param_version'].value_counts()\n",
    "#eng_pl('param_version', 'param_wersja')"
   ]
  },
  {
   "cell_type": "code",
   "execution_count": 93,
   "metadata": {},
   "outputs": [],
   "source": [
    "# 24 napęd\n",
    "df_all['param_transmission'].value_counts()\n",
    "eng_pl('param_transmission', 'param_napęd')"
   ]
  },
  {
   "cell_type": "code",
   "execution_count": 94,
   "metadata": {},
   "outputs": [],
   "source": [
    "df_all['param_napęd_comb'] = pd.factorize(df_all['param_napęd_comb'])[0]"
   ]
  },
  {
   "cell_type": "code",
   "execution_count": 95,
   "metadata": {},
   "outputs": [],
   "source": [
    "# 25 filtr\n",
    "df_all['param_particle-filter'].value_counts()\n",
    "df_all['param_filtr-cząstek-stałych']\n",
    "eng_pl('param_particle-filter', 'param_filtr-cząstek-stałych')"
   ]
  },
  {
   "cell_type": "code",
   "execution_count": 96,
   "metadata": {},
   "outputs": [],
   "source": [
    "df_all['param_filtr-cząstek-stałych_comb'] = pd.factorize(df_all['param_filtr-cząstek-stałych_comb'])[0]"
   ]
  },
  {
   "cell_type": "code",
   "execution_count": 97,
   "metadata": {},
   "outputs": [],
   "source": [
    "# 26 akryl\n",
    "eng_pl('param_acrylic', 'param_akryl-(niemetalizowany)')"
   ]
  },
  {
   "cell_type": "code",
   "execution_count": 98,
   "metadata": {},
   "outputs": [
    {
     "data": {
      "text/plain": [
       "-1         154473\n",
       "Tak          6137\n",
       "acrylic         6\n",
       "Name: param_akryl-(niemetalizowany)_comb, dtype: int64"
      ]
     },
     "execution_count": 98,
     "metadata": {},
     "output_type": "execute_result"
    }
   ],
   "source": [
    "df_all['param_akryl-(niemetalizowany)_comb'].value_counts()"
   ]
  },
  {
   "cell_type": "code",
   "execution_count": 99,
   "metadata": {},
   "outputs": [],
   "source": [
    "df_all['param_akryl-(niemetalizowany)_comb'] = df_all['param_akryl-(niemetalizowany)_comb'].replace(\"acrylic\", \"Tak\")\n",
    "df_all['param_akryl-(niemetalizowany)_comb'] = pd.factorize(df_all['param_akryl-(niemetalizowany)_comb'])[0]"
   ]
  },
  {
   "cell_type": "code",
   "execution_count": 100,
   "metadata": {},
   "outputs": [],
   "source": [
    "# 27 serwis\n",
    "df_all['param_serwisowany-w-aso'].value_counts()\n",
    "eng_pl('param_service-record', 'param_serwisowany-w-aso')\n",
    "df_all['param_serwisowany-w-aso_comb'] = pd.factorize(df_all['param_serwisowany-w-aso_comb'])[0]"
   ]
  },
  {
   "cell_type": "code",
   "execution_count": 101,
   "metadata": {},
   "outputs": [],
   "source": [
    "# 28 finansowanie\n",
    "eng_pl('param_financing-option', 'param_możliwość-finansowania')\n",
    "df_all['param_możliwość-finansowania_comb'].value_counts()\n",
    "df_all['param_możliwość-finansowania_comb'] = pd.factorize(df_all['param_możliwość-finansowania_comb'])[0]"
   ]
  },
  {
   "cell_type": "code",
   "execution_count": 102,
   "metadata": {},
   "outputs": [],
   "source": [
    "# 29 leasing\n",
    "df_all['param_leasing'].value_counts()\n",
    "df_all['param_leasing-concession'].value_counts()\n",
    "eng_pl('param_leasing-concession', 'param_leasing')\n",
    "df_all['param_leasing_comb'] = pd.factorize(df_all['param_leasing_comb'])[0]"
   ]
  },
  {
   "cell_type": "code",
   "execution_count": 103,
   "metadata": {},
   "outputs": [],
   "source": [
    "#df_all['param_oferta-od'].value_counts() # firma / osoba prywatna\n",
    "# vin: rejestracja - raczej nie będzie miało to znaczenia...\n",
    "remove_feats.extend(['param_vin_cat'])"
   ]
  },
  {
   "cell_type": "code",
   "execution_count": 104,
   "metadata": {},
   "outputs": [],
   "source": [
    "# 30 vat free\n",
    "eng_pl('param_vat-free', 'param_homologacja-ciężarowa')\n",
    "df_all['param_homologacja-ciężarowa_comb'] = pd.factorize(df_all['param_homologacja-ciężarowa_comb'])[0]"
   ]
  },
  {
   "cell_type": "code",
   "execution_count": 105,
   "metadata": {},
   "outputs": [],
   "source": [
    "# 32 vat disc\n",
    "eng_pl('param_vat-discount', 'param_vat-marża')\n",
    "df_all['param_vat-marża_comb'] = pd.factorize(df_all['param_vat-marża_comb'])[0]"
   ]
  },
  {
   "cell_type": "code",
   "execution_count": 106,
   "metadata": {},
   "outputs": [],
   "source": [
    "# 33 pojemność skokowa\n",
    "eng_pl('param_engine-capacity', 'param_pojemność-skokowa')\n",
    "str_to_float('param_pojemność-skokowa_comb', 'cm3')"
   ]
  },
  {
   "cell_type": "code",
   "execution_count": 107,
   "metadata": {},
   "outputs": [],
   "source": [
    "#df_all['param_pojemność-skokowa_comb'].unique()\n",
    "df_all['param_pojemność-skokowa_comb'] = df_all['param_pojemność-skokowa_comb'].astype(float)"
   ]
  },
  {
   "cell_type": "markdown",
   "metadata": {},
   "source": [
    "### Log przebiegu"
   ]
  },
  {
   "cell_type": "code",
   "execution_count": 108,
   "metadata": {},
   "outputs": [
    {
     "data": {
      "text/plain": [
       "(array([5.4400e+02, 0.0000e+00, 0.0000e+00, 1.0000e+00, 6.1250e+03,\n",
       "        9.5100e+02, 5.0620e+03, 2.6310e+03, 3.3400e+02, 1.1300e+02,\n",
       "        4.1000e+01, 1.3300e+02, 1.0700e+02, 2.0600e+02, 3.3400e+02,\n",
       "        5.0200e+02, 9.1000e+02, 1.8580e+03, 3.5010e+03, 5.2450e+03,\n",
       "        7.1890e+03, 1.4543e+04, 5.1622e+04, 5.6538e+04, 1.9820e+03,\n",
       "        5.4000e+01, 4.0000e+01, 3.2000e+01, 1.5000e+01, 3.0000e+00]),\n",
       " array([-2.30258509, -1.67594628, -1.04930746, -0.42266864,  0.20397018,\n",
       "         0.83060899,  1.45724781,  2.08388663,  2.71052544,  3.33716426,\n",
       "         3.96380308,  4.5904419 ,  5.21708071,  5.84371953,  6.47035835,\n",
       "         7.09699716,  7.72363598,  8.3502748 ,  8.97691362,  9.60355243,\n",
       "        10.23019125, 10.85683007, 11.48346888, 12.1101077 , 12.73674652,\n",
       "        13.36338534, 13.99002415, 14.61666297, 15.24330179, 15.8699406 ,\n",
       "        16.49657942]),\n",
       " <a list of 30 Patch objects>)"
      ]
     },
     "execution_count": 108,
     "metadata": {},
     "output_type": "execute_result"
    },
    {
     "data": {
      "image/png": "[encoded data removed]",
      "text/plain": [
       "<Figure size 432x288 with 1 Axes>"
      ]
     },
     "metadata": {
      "needs_background": "light"
     },
     "output_type": "display_data"
    }
   ],
   "source": [
    "plt.hist(np.log(df_all['param_przebieg_comb'] + 1.1), bins = 30) # +1.1 żeby nie było zer, które dają -inf"
   ]
  },
  {
   "cell_type": "code",
   "execution_count": 109,
   "metadata": {},
   "outputs": [],
   "source": [
    "df_all['param_przebieg_log'] = np.log(df_all['param_przebieg_comb']+1.1)\n",
    "remove_feats.extend(['param_przebieg_comb'])"
   ]
  },
  {
   "cell_type": "markdown",
   "metadata": {},
   "source": [
    "#### Pomogło, może log może pomóc też w innych kolumnach..."
   ]
  },
  {
   "cell_type": "code",
   "execution_count": 110,
   "metadata": {},
   "outputs": [
    {
     "name": "stderr",
     "output_type": "stream",
     "text": [
      "/home/conda/anaconda3/lib/python3.7/site-packages/pandas/core/series.py:679: RuntimeWarning: invalid value encountered in log\n",
      "  result = getattr(ufunc, method)(*inputs, **kwargs)\n",
      "/home/conda/anaconda3/lib/python3.7/site-packages/numpy/lib/histograms.py:839: RuntimeWarning: invalid value encountered in greater_equal\n",
      "  keep = (tmp_a >= first_edge)\n",
      "/home/conda/anaconda3/lib/python3.7/site-packages/numpy/lib/histograms.py:840: RuntimeWarning: invalid value encountered in less_equal\n",
      "  keep &= (tmp_a <= last_edge)\n"
     ]
    },
    {
     "data": {
      "image/png": "[encoded data removed]",
      "text/plain": [
       "<Figure size 432x288 with 1 Axes>"
      ]
     },
     "metadata": {
      "needs_background": "light"
     },
     "output_type": "display_data"
    }
   ],
   "source": [
    "plt.hist(np.log(df_all['param_rok_comb'])) # spróbujmy rok\n",
    "df_all['rok_log'] = np.log(df_all['param_rok_comb'] + 2) # żeby nie było NaN dla -1\n",
    "remove_feats.extend(['param_rok_comb'])"
   ]
  },
  {
   "cell_type": "markdown",
   "metadata": {},
   "source": [
    "#### Pomogło, próbowałam zamienić też inne ciągłe zmienne na log, ale psuło to już wynik, więc wróciłam do tylko roku i przebiegu w logu."
   ]
  },
  {
   "cell_type": "markdown",
   "metadata": {},
   "source": [
    "# One-hot-encoding"
   ]
  },
  {
   "cell_type": "code",
   "execution_count": 111,
   "metadata": {
    "scrolled": true
   },
   "outputs": [],
   "source": [
    "# typ samochodu / body type\n",
    "\n",
    "# zmniejsz liczbę kategorii\n",
    "df_all['param_typ_sim'] = df_all['param_typ'].replace({'others': -1, 'not enough details': -1, 'sedan/coupe/cabrio': 'Sedan', 'hatchback': 'Kombi', 'sedan/coupe': 'Sedan', 'coupe/cabrio': 'Coupe', 'minivan/city-car': 'Minivan', 'compact/minivan': 'Kompakt', 'city-car/suv': 'SUV', 'coupe/cabrio/minivan': 'Minivan',\n",
    "                                'compact/sedan': 'Sedan'})\n",
    "     "
   ]
  },
  {
   "cell_type": "code",
   "execution_count": 112,
   "metadata": {},
   "outputs": [
    {
     "data": {
      "text/plain": [
       "Kombi            33055\n",
       "Sedan            27137\n",
       "Kompakt          24867\n",
       "SUV              24266\n",
       "Auta miejskie    20532\n",
       "Minivan          19792\n",
       "Auta małe         5407\n",
       "Coupe             4048\n",
       "Kabriolet         1348\n",
       "-1                 164\n",
       "Name: param_typ_sim_comb, dtype: int64"
      ]
     },
     "execution_count": 112,
     "metadata": {},
     "output_type": "execute_result"
    }
   ],
   "source": [
    "eng_pl('param_body-type', 'param_typ_sim')\n",
    "df_all['param_typ_sim_comb'].value_counts()"
   ]
  },
  {
   "cell_type": "code",
   "execution_count": 113,
   "metadata": {},
   "outputs": [
    {
     "data": {
      "text/plain": [
       "Index(['typ_Auta małe', 'typ_Auta miejskie', 'typ_Coupe', 'typ_Kabriolet',\n",
       "       'typ_Kombi', 'typ_Kompakt', 'typ_Minivan', 'typ_SUV', 'typ_Sedan'],\n",
       "      dtype='object')"
      ]
     },
     "execution_count": 113,
     "metadata": {},
     "output_type": "execute_result"
    }
   ],
   "source": [
    "df_ohe = pd.get_dummies(df_all['param_typ_sim_comb'], prefix='typ')\n",
    "df_ohe = df_ohe.drop(columns = 'typ_-1')\n",
    "df_ohe.columns"
   ]
  },
  {
   "cell_type": "code",
   "execution_count": 114,
   "metadata": {},
   "outputs": [],
   "source": [
    "df_all = pd.concat([df_all, df_ohe], axis = 1)"
   ]
  },
  {
   "cell_type": "code",
   "execution_count": 115,
   "metadata": {},
   "outputs": [],
   "source": [
    "remove_feats.extend(['param_typ_comb', 'param_typ_cat'])"
   ]
  },
  {
   "cell_type": "markdown",
   "metadata": {},
   "source": [
    "Test na modelu 24 - poprawiło wynik."
   ]
  },
  {
   "cell_type": "markdown",
   "metadata": {},
   "source": [
    "### One hot na napędzie"
   ]
  },
  {
   "cell_type": "code",
   "execution_count": 116,
   "metadata": {},
   "outputs": [
    {
     "data": {
      "text/plain": [
       "Na przednie koła                 0.619770\n",
       "-1                               0.153926\n",
       "Na tylne koła                    0.080671\n",
       "4x4 (stały)                      0.066208\n",
       "4x4 (dołączany automatycznie)    0.064340\n",
       "4x4 (dołączany ręcznie)          0.015086\n",
       "Name: param_napęd, dtype: float64"
      ]
     },
     "execution_count": 116,
     "metadata": {},
     "output_type": "execute_result"
    }
   ],
   "source": [
    "df_all['param_napęd'].value_counts(normalize=True, dropna=False)"
   ]
  },
  {
   "cell_type": "code",
   "execution_count": 117,
   "metadata": {},
   "outputs": [
    {
     "data": {
      "text/plain": [
       "Index(['napęd_4x4 (dołączany automatycznie)', 'napęd_4x4 (dołączany ręcznie)',\n",
       "       'napęd_4x4 (stały)', 'napęd_Na przednie koła', 'napęd_Na tylne koła'],\n",
       "      dtype='object')"
      ]
     },
     "execution_count": 117,
     "metadata": {},
     "output_type": "execute_result"
    }
   ],
   "source": [
    "df_ohen = pd.get_dummies(df_all['param_napęd'], prefix='napęd')\n",
    "df_ohen = df_ohen.drop(columns = 'napęd_-1')\n",
    "df_ohen.columns"
   ]
  },
  {
   "cell_type": "code",
   "execution_count": 118,
   "metadata": {},
   "outputs": [
    {
     "data": {
      "text/plain": [
       "((160616, 288), (160616, 5))"
      ]
     },
     "execution_count": 118,
     "metadata": {},
     "output_type": "execute_result"
    }
   ],
   "source": [
    "df_all.shape, df_ohen.shape"
   ]
  },
  {
   "cell_type": "code",
   "execution_count": 119,
   "metadata": {},
   "outputs": [],
   "source": [
    "df_all = pd.concat([df_all, df_ohen], axis = 1)"
   ]
  },
  {
   "cell_type": "code",
   "execution_count": 120,
   "metadata": {},
   "outputs": [],
   "source": [
    "#df_ext.shape"
   ]
  },
  {
   "cell_type": "code",
   "execution_count": 121,
   "metadata": {},
   "outputs": [],
   "source": [
    "remove_feats.extend(['param_napęd_comb'])"
   ]
  },
  {
   "cell_type": "markdown",
   "metadata": {},
   "source": [
    "Poprawiło to wynik."
   ]
  },
  {
   "cell_type": "code",
   "execution_count": 122,
   "metadata": {},
   "outputs": [],
   "source": [
    "# dodaj automat"
   ]
  },
  {
   "cell_type": "code",
   "execution_count": 123,
   "metadata": {},
   "outputs": [
    {
     "data": {
      "text/plain": [
       "Manualna                                 110590\n",
       "Automatyczna hydrauliczna (klasyczna)     27935\n",
       "Automatyczna dwusprzęgłowa (DCT, DSG)      9623\n",
       "-1                                         8866\n",
       "Automatyczna bezstopniowa (CVT)            2300\n",
       "Półautomatyczna (ASG, Tiptronic)           1302\n",
       "Name: param_skrzynia-biegów, dtype: int64"
      ]
     },
     "execution_count": 123,
     "metadata": {},
     "output_type": "execute_result"
    }
   ],
   "source": [
    "df_all['param_skrzynia-biegów'].value_counts()"
   ]
  },
  {
   "cell_type": "code",
   "execution_count": 124,
   "metadata": {},
   "outputs": [],
   "source": [
    "df_all['automat'] = df_all['param_skrzynia-biegów'].replace('Manualna', 0)"
   ]
  },
  {
   "cell_type": "code",
   "execution_count": 125,
   "metadata": {},
   "outputs": [],
   "source": [
    "df_all.loc[df_all['automat'] != 0, 'automat'] = 1"
   ]
  },
  {
   "cell_type": "code",
   "execution_count": 126,
   "metadata": {},
   "outputs": [],
   "source": [
    "df_all['automat'] = df_all['automat'].astype(bool)"
   ]
  },
  {
   "cell_type": "markdown",
   "metadata": {},
   "source": [
    "## One hot encoding: rodzaj paliwa"
   ]
  },
  {
   "cell_type": "code",
   "execution_count": 166,
   "metadata": {},
   "outputs": [
    {
     "data": {
      "text/plain": [
       "0    Benzyna+LPG\n",
       "2         Diesel\n",
       "3         Diesel\n",
       "4         Diesel\n",
       "5        Benzyna\n",
       "Name: param_rodzaj-paliwa_comb, dtype: object"
      ]
     },
     "execution_count": 166,
     "metadata": {},
     "output_type": "execute_result"
    }
   ],
   "source": [
    "#df_all['param_fuel-type'].value_counts()\n",
    "eng_pl('param_fuel-type', 'param_rodzaj-paliwa')\n",
    "#df_all['param_rodzaj-paliwa_comb'] = pd.factorize(df_all['param_rodzaj-paliwa_comb'])[0]\n",
    "df_all['param_rodzaj-paliwa_comb'].head()"
   ]
  },
  {
   "cell_type": "code",
   "execution_count": 167,
   "metadata": {},
   "outputs": [
    {
     "data": {
      "text/plain": [
       "Index(['paliwo_Benzyna', 'paliwo_Benzyna+CNG', 'paliwo_Benzyna+LPG',\n",
       "       'paliwo_Diesel', 'paliwo_Elektryczny', 'paliwo_Hybryda', 'paliwo_inne'],\n",
       "      dtype='object')"
      ]
     },
     "execution_count": 167,
     "metadata": {},
     "output_type": "execute_result"
    }
   ],
   "source": [
    "df_all['param_rodzaj-paliwa_comb'].value_counts()\n",
    "df_ohep = pd.get_dummies(df_all['param_rodzaj-paliwa_comb'], prefix='paliwo')\n",
    "df_ohep['paliwo_inne'] = df_ohep['paliwo_Wodór'] + df_ohep['paliwo_Etanol']\n",
    "df_ohep = df_ohep.drop(columns = ['paliwo_-1', 'paliwo_Wodór', 'paliwo_Etanol'])\n",
    "df_ohep.columns"
   ]
  },
  {
   "cell_type": "code",
   "execution_count": 168,
   "metadata": {},
   "outputs": [],
   "source": [
    "df_all = pd.concat([df_all, df_ohep], axis = 1)"
   ]
  },
  {
   "cell_type": "code",
   "execution_count": 169,
   "metadata": {},
   "outputs": [],
   "source": [
    "remove_feats.extend(['param_rodzaj-paliwa_comb'])"
   ]
  },
  {
   "cell_type": "code",
   "execution_count": 131,
   "metadata": {},
   "outputs": [],
   "source": [
    "#feats = get_feats(df_all)\n",
    "#feats"
   ]
  },
  {
   "cell_type": "code",
   "execution_count": 132,
   "metadata": {},
   "outputs": [
    {
     "data": {
      "text/plain": [
       "-1      160122\n",
       "Tak        492\n",
       "matt         2\n",
       "Name: param_matowy, dtype: int64"
      ]
     },
     "execution_count": 132,
     "metadata": {},
     "output_type": "execute_result"
    }
   ],
   "source": [
    "# napraw mat\n",
    "df_all['param_matowy'].value_counts()"
   ]
  },
  {
   "cell_type": "code",
   "execution_count": 133,
   "metadata": {},
   "outputs": [],
   "source": [
    "df_all['param_matowy'] = df_all['param_matowy'].replace({-1: 0, 'Tak': 1, 'matt': 1})"
   ]
  },
  {
   "cell_type": "code",
   "execution_count": 134,
   "metadata": {},
   "outputs": [],
   "source": [
    "remove_feats.extend(['param_matowy_cat'])"
   ]
  },
  {
   "cell_type": "code",
   "execution_count": 135,
   "metadata": {},
   "outputs": [],
   "source": [
    "#df_all['param_stan_cat'].value_counts() zrób oddzielną bool kolumnę na używane/nowe\n",
    "df_all['używane'] = df_all['param_stan_cat'].replace(2, 0)\n",
    "remove_feats.extend(['param_stan_cat'])"
   ]
  },
  {
   "cell_type": "markdown",
   "metadata": {},
   "source": [
    "## Średnia cena modelu"
   ]
  },
  {
   "cell_type": "code",
   "execution_count": 136,
   "metadata": {},
   "outputs": [],
   "source": [
    "train = get_train(df_all)\n",
    "version_price = pd.DataFrame(train[['Full_car_name_br', 'price_value']].groupby(['Full_car_name_br']).mean())"
   ]
  },
  {
   "cell_type": "code",
   "execution_count": 137,
   "metadata": {},
   "outputs": [
    {
     "data": {
      "text/plain": [
       "Index(['116', '118', '120', '123', '125', '130', '135', '315', '316', '318',\n",
       "       ...\n",
       "       'Volvo XC 90 II (2014-)', 'Škoda Fabia I (1999-2008)',\n",
       "       'Škoda Fabia II (2007-2014)', 'Škoda Fabia III (2014-)',\n",
       "       'Škoda Octavia I (1996-2011)', 'Škoda Octavia II (2004-2013)',\n",
       "       'Škoda Octavia III (2013-)', 'Škoda Superb I (2001-2008)',\n",
       "       'Škoda Superb II (2008-)', 'Škoda Superb III (2015-)'],\n",
       "      dtype='object', name='Full_car_name_br', length=823)"
      ]
     },
     "execution_count": 137,
     "metadata": {},
     "output_type": "execute_result"
    }
   ],
   "source": [
    "version_price.index"
   ]
  },
  {
   "cell_type": "code",
   "execution_count": 138,
   "metadata": {},
   "outputs": [],
   "source": [
    "# średnia cena dla danej wersji samochodu\n",
    "df_all['av_price'] = df_all['Full_car_name_br'].replace(dict(zip(version_price.index, version_price['price_value'])))"
   ]
  },
  {
   "cell_type": "code",
   "execution_count": 139,
   "metadata": {},
   "outputs": [],
   "source": [
    "### dla samochodów, dla ktorych nie mogłam dostać średniej ceny wersji - dodaj średnią cenę modelu w zamian\n",
    "index_p = list(df_all.av_price[df_all['av_price'].apply(lambda x: isinstance(x, str))].index) # df_all indexes for which i need alternative average"
   ]
  },
  {
   "cell_type": "code",
   "execution_count": 140,
   "metadata": {},
   "outputs": [],
   "source": [
    "models_needed = df_all['Model_br'][index_p].unique()"
   ]
  },
  {
   "cell_type": "code",
   "execution_count": 141,
   "metadata": {
    "scrolled": true
   },
   "outputs": [],
   "source": [
    "df_help = df_all[df_all['Model_br'].isin(models_needed)]"
   ]
  },
  {
   "cell_type": "code",
   "execution_count": 142,
   "metadata": {},
   "outputs": [],
   "source": [
    "model_price = pd.DataFrame(df_help[['Model_br', 'price_value']].groupby(['Model_br']).mean())"
   ]
  },
  {
   "cell_type": "code",
   "execution_count": 143,
   "metadata": {},
   "outputs": [],
   "source": [
    "df_all.loc[index_p,'av_price'] = df_help['Model_br'].replace(dict(zip(model_price.index, model_price['price_value'])))\n",
    "del df_help"
   ]
  },
  {
   "cell_type": "markdown",
   "metadata": {},
   "source": [
    "Dla pozostałych wartości 34993 brakujących próbowałam dodać -1 albo medianę cen. Mediana dawała lepszy wynik."
   ]
  },
  {
   "cell_type": "code",
   "execution_count": 144,
   "metadata": {},
   "outputs": [
    {
     "data": {
      "text/plain": [
       "0"
      ]
     },
     "execution_count": 144,
     "metadata": {},
     "output_type": "execute_result"
    }
   ],
   "source": [
    "# co zrobić z 34,993 wartościami brakującymi...\n",
    "# 1 daj -1\n",
    "#df_all.loc[:, df_all.columns != 'price_value'] = df_all.fillna(-1)\n",
    "# 2: daj globalną medianę ceny auta\n",
    "global_median = df_all['av_price'].median()\n",
    "df_all['av_price'] = df_all['av_price'].fillna(global_median)\n",
    "df_all['av_price'].isnull().sum()"
   ]
  },
  {
   "cell_type": "markdown",
   "metadata": {},
   "source": [
    "## Pierwsza rejestracja"
   ]
  },
  {
   "cell_type": "code",
   "execution_count": 145,
   "metadata": {},
   "outputs": [
    {
     "data": {
      "text/plain": [
       "102340"
      ]
     },
     "execution_count": 145,
     "metadata": {},
     "output_type": "execute_result"
    }
   ],
   "source": [
    "# za dużo wartości brakujących żeby coś z tym robić, ale przekonwertuję na rok\n",
    "sum(df_all['param_pierwsza-rejestracja_comb']==-1)"
   ]
  },
  {
   "cell_type": "code",
   "execution_count": 146,
   "metadata": {},
   "outputs": [],
   "source": [
    "df_all['pierwsza_rejestracja_rok'] = df_all['param_pierwsza-rejestracja_comb'].str[-4:].fillna(-1).astype(int)\n",
    "remove_feats.extend(['param_pierwsza-rejestracja_comb'])"
   ]
  },
  {
   "cell_type": "markdown",
   "metadata": {},
   "source": [
    "### intensywność użytkowania, zignorowana, bo pogorszyła wynik"
   ]
  },
  {
   "cell_type": "code",
   "execution_count": 147,
   "metadata": {},
   "outputs": [],
   "source": [
    "# 1. wiek samochodu - pierwsza rej. ma za dużo brakujących wartości, więc zobaczmy rok\n",
    "#sum(df_all['param_rok_comb']==-1) # 161 missing\n",
    "#years_used = (2019 - df_all['param_rok_comb']).replace(2020, -1) # 2019 żeby auta z 2018 nie miały 0\n",
    "#df_all['miles_per_year'] = df_all['param_przebieg_comb'] / years_used"
   ]
  },
  {
   "cell_type": "code",
   "execution_count": 148,
   "metadata": {},
   "outputs": [],
   "source": [
    "#df_all['miles_per_year'][df_all['miles_per_year']<0] = -1\n",
    "#df_all['miles_per_year'][df_all['miles_per_year']==1] = -1\n",
    "#df_all['miles_per_year'] = np.log(df_all['miles_per_year'])"
   ]
  },
  {
   "cell_type": "code",
   "execution_count": 149,
   "metadata": {},
   "outputs": [],
   "source": [
    "#plt.hist(df_all['miles_per_year'].value_counts()) # nie wiem czemu nie wygląda to jak log"
   ]
  },
  {
   "cell_type": "markdown",
   "metadata": {},
   "source": [
    "## Misc"
   ]
  },
  {
   "cell_type": "code",
   "execution_count": 150,
   "metadata": {},
   "outputs": [],
   "source": [
    "#df_all['seller_type'].value_counts()\n",
    "df_all['seller_type_cat'] = df_all['seller_type'].replace({'Osoba prywatna': 0, 'Dealer':1})"
   ]
  },
  {
   "cell_type": "markdown",
   "metadata": {},
   "source": [
    "## Dodatkowa kolumna: ilość brakujących wartości"
   ]
  },
  {
   "cell_type": "code",
   "execution_count": 151,
   "metadata": {},
   "outputs": [
    {
     "data": {
      "text/plain": [
       "54122"
      ]
     },
     "execution_count": 151,
     "metadata": {},
     "output_type": "execute_result"
    }
   ],
   "source": [
    "# wypełnij braki -1, poza ceną w teście\n",
    "df_all.loc[:, df_all.columns != 'price_value'] = df_all.fillna(-1)\n",
    "df_all['price_value'].isnull().sum()"
   ]
  },
  {
   "cell_type": "code",
   "execution_count": 153,
   "metadata": {},
   "outputs": [],
   "source": [
    "df_all['no_missing'] = (df_all==-1).sum(axis=1)"
   ]
  },
  {
   "cell_type": "markdown",
   "metadata": {},
   "source": [
    "## Model"
   ]
  },
  {
   "cell_type": "code",
   "execution_count": 170,
   "metadata": {},
   "outputs": [],
   "source": [
    "feats = get_feats(df_all)\n",
    "train = get_train(df_all)\n",
    "test = get_test(df_all)\n",
    "X_train_big = get_X(train)\n",
    "y_train_big = np.log(get_y(train))\n",
    "X_train, X_test_t, y_train, y_test_t = train_test_split(X_train_big, y_train_big, test_size = 0.3)"
   ]
  },
  {
   "cell_type": "code",
   "execution_count": 171,
   "metadata": {},
   "outputs": [
    {
     "data": {
      "text/plain": [
       "['feature_czujniki-parkowania-przednie',\n",
       " 'feature_poduszka-powietrzna-chroniąca-kolana',\n",
       " 'feature_kurtyny-powietrzne',\n",
       " 'feature_klimatyzacja-dwustrefowa',\n",
       " 'feature_światła-led',\n",
       " 'feature_czujnik-zmierzchu',\n",
       " 'feature_elektrycznie-ustawiane-lusterka',\n",
       " 'feature_asr-(kontrola-trakcji)',\n",
       " 'feature_poduszka-powietrzna-kierowcy',\n",
       " 'feature_cd',\n",
       " 'feature_elektryczne-szyby-przednie',\n",
       " 'feature_poduszka-powietrzna-pasażera',\n",
       " 'feature_system-start-stop',\n",
       " 'feature_światła-do-jazdy-dziennej',\n",
       " 'feature_komputer-pokładowy',\n",
       " 'feature_elektryczne-szyby-tylne',\n",
       " 'feature_klimatyzacja-manualna',\n",
       " 'feature_tapicerka-welurowa',\n",
       " 'feature_czujnik-deszczu',\n",
       " 'feature_światła-przeciwmgielne',\n",
       " 'feature_ogrzewanie-postojowe',\n",
       " 'feature_radio-niefabryczne',\n",
       " 'feature_regulowane-zawieszenie',\n",
       " 'feature_ogranicznik-prędkości',\n",
       " 'feature_zmieniarka-cd',\n",
       " 'feature_szyberdach',\n",
       " 'feature_isofix',\n",
       " 'feature_asystent-pasa-ruchu',\n",
       " 'feature_alufelgi',\n",
       " 'feature_bluetooth',\n",
       " 'feature_nawigacja-gps',\n",
       " 'feature_asystent-parkowania',\n",
       " 'feature_wspomaganie-kierownicy',\n",
       " 'feature_podgrzewana-przednia-szyba',\n",
       " 'feature_przyciemniane-szyby',\n",
       " 'feature_elektrycznie-ustawiane-fotele',\n",
       " 'feature_klimatyzacja-czterostrefowa',\n",
       " 'feature_tuner-tv',\n",
       " 'feature_poduszki-boczne-przednie',\n",
       " 'feature_tempomat-aktywny',\n",
       " 'feature_klimatyzacja-automatyczna',\n",
       " 'feature_poduszki-boczne-tylne',\n",
       " 'feature_radio-fabryczne',\n",
       " 'feature_odtwarzacz-dvd',\n",
       " 'feature_czujniki-parkowania-tylne',\n",
       " 'feature_łopatki-zmiany-biegów',\n",
       " 'feature_centralny-zamek',\n",
       " 'feature_dach-panoramiczny',\n",
       " 'feature_kamera-cofania',\n",
       " 'feature_immobilizer',\n",
       " 'feature_czujnik-martwego-pola',\n",
       " 'feature_gniazdo-sd',\n",
       " 'feature_podgrzewane-lusterka-boczne',\n",
       " 'feature_podgrzewane-przednie-siedzenia',\n",
       " 'feature_hak',\n",
       " 'feature_abs',\n",
       " 'feature_wielofunkcyjna-kierownica',\n",
       " 'feature_światła-xenonowe',\n",
       " 'feature_gniazdo-usb',\n",
       " 'feature_tapicerka-skórzana',\n",
       " 'feature_gniazdo-aux',\n",
       " 'feature_esp-(stabilizacja-toru-jazdy)',\n",
       " 'feature_alarm',\n",
       " 'feature_podgrzewane-tylne-siedzenia',\n",
       " 'feature_mp3',\n",
       " 'feature_tempomat',\n",
       " 'feature_hud-(wyświetlacz-przezierny)',\n",
       " 'feature_elektrochromatyczne-lusterko-wsteczne',\n",
       " 'feature_relingi-dachowe',\n",
       " 'feature_elektrochromatyczne-lusterka-boczne',\n",
       " 'param_wartość-wykupu',\n",
       " 'param_liczba-pozostałych-rat',\n",
       " 'param_opłata-początkowa',\n",
       " 'param_matowy',\n",
       " 'price_currency_cat',\n",
       " 'seller_type_cat',\n",
       " 'param_faktura-vat_cat',\n",
       " 'param_zarejestrowany-jako-zabytek_cat',\n",
       " 'param_oferta-od_cat',\n",
       " 'param_kierownica-po-prawej-(anglik)_cat',\n",
       " 'param_tuning_cat',\n",
       " 'Osobowe_br_cat',\n",
       " 'makes_norm_cat',\n",
       " 'model_norm_cat',\n",
       " 'name_norm_cat',\n",
       " 'created_M_ago',\n",
       " 'seller_address_norm_cat',\n",
       " 'seller_name_norm_cat',\n",
       " 'fancy_feats',\n",
       " 'param_kraj-pochodzenia_comb_cat',\n",
       " 'param_uszkodzony_comb',\n",
       " 'param_metalik_comb',\n",
       " 'param_liczba-miejsc_comb',\n",
       " 'param_liczba-drzwi_comb',\n",
       " 'param_perłowy_comb',\n",
       " 'param_zarejestrowany-w-polsce_comb',\n",
       " 'param_kolor_comb',\n",
       " 'param_pierwszy-właściciel_comb',\n",
       " 'param_bezwypadkowy_comb',\n",
       " 'param_miesięczna-rata_comb',\n",
       " 'param_emisja-co2_comb',\n",
       " 'param_skrzynia-biegów_comb',\n",
       " 'param_moc_comb',\n",
       " 'param_filtr-cząstek-stałych_comb',\n",
       " 'param_akryl-(niemetalizowany)_comb',\n",
       " 'param_serwisowany-w-aso_comb',\n",
       " 'param_możliwość-finansowania_comb',\n",
       " 'param_leasing_comb',\n",
       " 'param_homologacja-ciężarowa_comb',\n",
       " 'param_vat-marża_comb',\n",
       " 'param_pojemność-skokowa_comb',\n",
       " 'param_przebieg_log',\n",
       " 'rok_log',\n",
       " 'typ_Auta małe',\n",
       " 'typ_Auta miejskie',\n",
       " 'typ_Coupe',\n",
       " 'typ_Kabriolet',\n",
       " 'typ_Kombi',\n",
       " 'typ_Kompakt',\n",
       " 'typ_Minivan',\n",
       " 'typ_SUV',\n",
       " 'typ_Sedan',\n",
       " 'napęd_4x4 (dołączany automatycznie)',\n",
       " 'napęd_4x4 (dołączany ręcznie)',\n",
       " 'napęd_4x4 (stały)',\n",
       " 'napęd_Na przednie koła',\n",
       " 'napęd_Na tylne koła',\n",
       " 'automat',\n",
       " 'używane',\n",
       " 'av_price',\n",
       " 'pierwsza_rejestracja_rok',\n",
       " 'no_missing',\n",
       " 'paliwo_Benzyna',\n",
       " 'paliwo_Benzyna+CNG',\n",
       " 'paliwo_Benzyna+LPG',\n",
       " 'paliwo_Diesel',\n",
       " 'paliwo_Elektryczny',\n",
       " 'paliwo_Hybryda',\n",
       " 'paliwo_inne']"
      ]
     },
     "execution_count": 171,
     "metadata": {},
     "output_type": "execute_result"
    }
   ],
   "source": [
    "feats"
   ]
  },
  {
   "cell_type": "markdown",
   "metadata": {},
   "source": [
    "Model, który dał mi 3. miesjce to model nr 68 ze 102, które udokumentowałam."
   ]
  },
  {
   "cell_type": "markdown",
   "metadata": {},
   "source": [
    "### Hyperopt"
   ]
  },
  {
   "cell_type": "markdown",
   "metadata": {},
   "source": [
    "Poniższa funkcja bardzo pomogła mi jak byłam przy modelu 34, to po tym dostałam wynik <6k. \n",
    "\n",
    "Po dalszej modyfikacji cech chciałam zrobić optymalizację jeszcze raz i zostawiłam na kilka godzin funkcję o szerszym zakresie niż ta poniższa. Wyniki były bardzo rozczarowujące, znalezione parametry popsuły wynik. \n",
    "\n",
    "Próbowałam też zmienić 'objective' na mae, wg slajdów z webinaru 3, ale bez sukcesu."
   ]
  },
  {
   "cell_type": "code",
   "execution_count": null,
   "metadata": {},
   "outputs": [],
   "source": [
    "def objective(space):\n",
    "    \n",
    "    xgb_params = {\n",
    "        'max_depth': int(space['max_depth'],\n",
    "        'colsample_bytree': space['colsample_bytree'],\n",
    "        'learning_rate': space['learning_rate'],\n",
    "        'subsample': space['subsample'],\n",
    "        'random_state': int(space['random_state']),\n",
    "        'min_child_weight': int(space['min_child_weight'],\n",
    "        'reg_alpha': space['reg_alpha'],\n",
    "        'reg_lambda': space['reg_lambda'],\n",
    "        'n_estimators': int(space['n_estimators']),\n",
    "        'objective': 'reg:squarederror'\n",
    "        \n",
    "    }\n",
    "    \n",
    "    model = xgb.XGBRegressor(**xgb_params)\n",
    "    model.fit(X_train, y_train)\n",
    "    y_pred = model.predict(X_test_t)\n",
    "    \n",
    "    score = mean_absolute_error(y_test_t, y_pred)\n",
    "    \n",
    "    return{'loss':score, 'status': STATUS_OK }\n",
    "    \n",
    "space ={\n",
    "    'max_depth': hp.quniform ('x_max_depth', 5, 20, 1),\n",
    "    'colsample_bytree': hp.uniform ('x_colsample_bytree', 0.8, 1.),\n",
    "    'learning_rate': hp.uniform ('x_learning_rate', 0.05, 0.2),\n",
    "    'subsample': hp.uniform ('x_subsample', 0.7, 1.)\n",
    "    'random_state': hp.quniform ('x_random_state', 0, 10000, 50),\n",
    "    'min_child_weight': hp.quniform ('x_min_child_weight', 1, 10, 1),\n",
    "    'reg_alpha': hp.loguniform ('x_reg_alpha', 0.7, 1.),\n",
    "    'reg_lambda': hp.uniform ('x_reg_lambda', 0.7, 1.),\n",
    "    'n_estimators': hp.quniform('n_estimators', 200, 1000, 100) # nie wiem czemu np.uniform nie działa tutaj\n",
    "}\n",
    "\n",
    "\n",
    "trials = Trials()\n",
    "best_params = fmin(fn=objective,\n",
    "            space=space,\n",
    "            algo=partial(tpe.suggest, n_startup_jobs=1), \n",
    "            max_evals=30,\n",
    "            trials=trials)\n",
    "\n",
    "print(\"The best params: \", best_params)"
   ]
  },
  {
   "cell_type": "markdown",
   "metadata": {},
   "source": [
    "### Trenining na całych danych"
   ]
  },
  {
   "cell_type": "markdown",
   "metadata": {},
   "source": [
    "Hyperopt zasugerował mi 1000 drzew, ale z eksperymentów wiedziałam, że więcej drzew daje lepszy wynik, więc dodałam jeszcze 500."
   ]
  },
  {
   "cell_type": "code",
   "execution_count": 160,
   "metadata": {},
   "outputs": [],
   "source": [
    "model = xgb.XGBRegressor(n_estimators=1500, colsample_bytree = 0.8279467590246975, learning_rate= 0.07007685184687976, max_depth = 9, min_child_weight = 6, random_state = 7500, reg_alpha = 1.3729020759474109, reg_lambda = 0.7514094557285182, subsample = 0.9139440618622573)"
   ]
  },
  {
   "cell_type": "code",
   "execution_count": 172,
   "metadata": {},
   "outputs": [],
   "source": [
    "model.fit(X_train_big, y_train_big) # bez zostawienia testu - więcej danych -> lepszy model -> lepszy wynik na kagglu\n",
    "y_pred = np.exp(model.predict(X_test_t))\n",
    "y_test = np.exp(y_test_t)\n",
    "#mean_absolute_error(y_test, y_pred) "
   ]
  },
  {
   "cell_type": "markdown",
   "metadata": {},
   "source": [
    "# ... submission"
   ]
  },
  {
   "cell_type": "code",
   "execution_count": 173,
   "metadata": {},
   "outputs": [],
   "source": [
    "X_test = test[feats].values\n",
    "# dla targetu w logarytmie:\n",
    "y_pred = np.exp(model.predict(X_test))"
   ]
  },
  {
   "cell_type": "code",
   "execution_count": 174,
   "metadata": {},
   "outputs": [],
   "source": [
    "\n",
    "global_min = train.price_value.min()\n",
    "y_pred[ y_pred < global_min] = global_min\n",
    "\n",
    "test.loc[:, 'price_value'] = y_pred\n",
    "\n",
    "#prepare to submit\n",
    "test[ ['car_id', 'price_value'] ].to_csv('model_git.csv', index=False)"
   ]
  },
  {
   "cell_type": "code",
   "execution_count": 175,
   "metadata": {},
   "outputs": [
    {
     "data": {
      "text/plain": [
       "1          4359.466797\n",
       "8         71489.937500\n",
       "9         11064.263672\n",
       "12        22097.347656\n",
       "14         4309.433594\n",
       "              ...     \n",
       "160602    33191.765625\n",
       "160603    11940.911133\n",
       "160607     9866.489258\n",
       "160612    20731.986328\n",
       "160613    36328.593750\n",
       "Name: price_value, Length: 54122, dtype: float32"
      ]
     },
     "execution_count": 175,
     "metadata": {},
     "output_type": "execute_result"
    }
   ],
   "source": [
    "test.price_value"
   ]
  },
  {
   "cell_type": "code",
   "execution_count": null,
   "metadata": {},
   "outputs": [],
   "source": []
  }
 ],
 "metadata": {
  "kernelspec": {
   "display_name": "Python 3",
   "language": "python",
   "name": "python3"
  },
  "language_info": {
   "codemirror_mode": {
    "name": "ipython",
    "version": 3
   },
   "file_extension": ".py",
   "mimetype": "text/x-python",
   "name": "python",
   "nbconvert_exporter": "python",
   "pygments_lexer": "ipython3",
   "version": "3.7.6"
  }
 },
 "nbformat": 4,
 "nbformat_minor": 4
}
